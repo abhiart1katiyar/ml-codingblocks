{
  "nbformat": 4,
  "nbformat_minor": 0,
  "metadata": {
    "colab": {
      "name": "numpy.ipynb",
      "provenance": [],
      "collapsed_sections": [],
      "toc_visible": true,
      "authorship_tag": "ABX9TyN/oLPDzIIvv/0Siv4udMMG",
      "include_colab_link": true
    },
    "kernelspec": {
      "name": "python3",
      "display_name": "Python 3"
    },
    "language_info": {
      "name": "python"
    }
  },
  "cells": [
    {
      "cell_type": "markdown",
      "metadata": {
        "id": "view-in-github",
        "colab_type": "text"
      },
      "source": [
        "<a href=\"https://colab.research.google.com/github/abhiart1katiyar/ml-codingblocks/blob/main/numpy.ipynb\" target=\"_parent\"><img src=\"https://colab.research.google.com/assets/colab-badge.svg\" alt=\"Open In Colab\"/></a>"
      ]
    },
    {
      "cell_type": "code",
      "metadata": {
        "colab": {
          "base_uri": "https://localhost:8080/"
        },
        "id": "MNqEaGuBlkoI",
        "outputId": "257ada13-bfa8-432d-8916-4f20d3cea453"
      },
      "source": [
        "!pip3 install numpy \n",
        "# Multi-Dimentional Array Library"
      ],
      "execution_count": null,
      "outputs": [
        {
          "output_type": "stream",
          "name": "stdout",
          "text": [
            "Requirement already satisfied: numpy in /usr/local/lib/python3.7/dist-packages (1.19.5)\n"
          ]
        }
      ]
    },
    {
      "cell_type": "code",
      "metadata": {
        "id": "ccnA7yZqlyKo",
        "colab": {
          "base_uri": "https://localhost:8080/"
        },
        "outputId": "bec79087-adc9-45e3-e70e-e6ca37163f6f"
      },
      "source": [
        "import numpy as np\n",
        "nparray = np.array([[1,2,3,4],[5,6,7,8]], dtype='int8')\n",
        "print(nparray)\n",
        "print(nparray.T)"
      ],
      "execution_count": 40,
      "outputs": [
        {
          "output_type": "stream",
          "name": "stdout",
          "text": [
            "[[1 2 3 4]\n",
            " [5 6 7 8]]\n",
            "[[1 5]\n",
            " [2 6]\n",
            " [3 7]\n",
            " [4 8]]\n"
          ]
        }
      ]
    },
    {
      "cell_type": "code",
      "metadata": {
        "colab": {
          "base_uri": "https://localhost:8080/"
        },
        "id": "URABLiSiY-8a",
        "outputId": "f4fae7ef-7ab6-437e-f6e4-ec046167cc04"
      },
      "source": [
        "print(nparray[0,3])"
      ],
      "execution_count": 2,
      "outputs": [
        {
          "output_type": "stream",
          "name": "stdout",
          "text": [
            "4\n"
          ]
        }
      ]
    },
    {
      "cell_type": "code",
      "metadata": {
        "colab": {
          "base_uri": "https://localhost:8080/"
        },
        "id": "NuonWtKRaAlt",
        "outputId": "d6b6f9f9-a7ec-4ad6-ec84-5e030cf59d5f"
      },
      "source": [
        "print(nparray.shape)\n",
        "print(nparray.itemsize)\n",
        "print(nparray.dtype)\n",
        "print(nparray.nbytes) # No. of bytes each element takes\n"
      ],
      "execution_count": 3,
      "outputs": [
        {
          "output_type": "stream",
          "name": "stdout",
          "text": [
            "(2, 4)\n",
            "1\n",
            "int8\n",
            "8\n"
          ]
        }
      ]
    },
    {
      "cell_type": "code",
      "metadata": {
        "colab": {
          "base_uri": "https://localhost:8080/"
        },
        "id": "govyENY_a_LO",
        "outputId": "b8df0597-86c8-4cf6-da80-2a568fd4bf29"
      },
      "source": [
        "arrA = np.array([[1,2],[5,6]], dtype='int8')\n",
        "arrB = np.array([[4,7],[8,9]], dtype='int8')\n",
        "np.dot(arrA,arrB) # Matrix multiplication\n",
        "arrC = arrA * arrB # arrA i,j * arrB i,j\n",
        "print(arrC)"
      ],
      "execution_count": 4,
      "outputs": [
        {
          "output_type": "stream",
          "name": "stdout",
          "text": [
            "[[ 4 14]\n",
            " [40 54]]\n"
          ]
        }
      ]
    },
    {
      "cell_type": "code",
      "metadata": {
        "colab": {
          "base_uri": "https://localhost:8080/"
        },
        "id": "AP320r2wb3Ab",
        "outputId": "e5026b91-d8eb-4954-8143-9704b103bc97"
      },
      "source": [
        "print(arrA[1:][0:])"
      ],
      "execution_count": 5,
      "outputs": [
        {
          "output_type": "stream",
          "name": "stdout",
          "text": [
            "[[5 6]]\n"
          ]
        }
      ]
    },
    {
      "cell_type": "code",
      "metadata": {
        "colab": {
          "base_uri": "https://localhost:8080/"
        },
        "id": "GIRTvPCNcZue",
        "outputId": "2ca949df-c319-47f6-ef3d-52d646f88a23"
      },
      "source": [
        "print(nparray[1:])"
      ],
      "execution_count": null,
      "outputs": [
        {
          "output_type": "stream",
          "name": "stdout",
          "text": [
            "[[5 6 7 8]]\n"
          ]
        }
      ]
    },
    {
      "cell_type": "code",
      "metadata": {
        "colab": {
          "base_uri": "https://localhost:8080/"
        },
        "id": "MlhzM_qodBpi",
        "outputId": "9c871cfd-3a2f-46bd-ed7e-ed601fe7064c"
      },
      "source": [
        "print(nparray[:,2]) # each row but 2nd column\n",
        "print(nparray[0,:]) # 0th row and all column\n",
        "print(nparray[0,3]) # 0th row and 3rd column"
      ],
      "execution_count": null,
      "outputs": [
        {
          "output_type": "stream",
          "name": "stdout",
          "text": [
            "[3 7]\n",
            "[1 2 3 4]\n",
            "4\n"
          ]
        }
      ]
    },
    {
      "cell_type": "code",
      "metadata": {
        "colab": {
          "base_uri": "https://localhost:8080/"
        },
        "id": "OJ2_mc9Wfovu",
        "outputId": "a52efc33-da75-477b-d0e2-024985750600"
      },
      "source": [
        "print(nparray[0,0:4:2]) # 0th row , from 0th column till column 3(i.e. 4-1) with step size as 2"
      ],
      "execution_count": 10,
      "outputs": [
        {
          "output_type": "stream",
          "name": "stdout",
          "text": [
            "[1 3]\n"
          ]
        }
      ]
    },
    {
      "cell_type": "code",
      "metadata": {
        "colab": {
          "base_uri": "https://localhost:8080/"
        },
        "id": "3gMfCbqQiTki",
        "outputId": "ea9f1de3-75d4-4774-8aa9-9b74be1c78a4"
      },
      "source": [
        "print(np.flip(nparray[0,0:4:1],0)) # 0th row , from 0th column till column 3(i.e. 4-1) with step size as 2"
      ],
      "execution_count": 11,
      "outputs": [
        {
          "output_type": "stream",
          "name": "stdout",
          "text": [
            "[4 3 2 1]\n"
          ]
        }
      ]
    },
    {
      "cell_type": "code",
      "metadata": {
        "colab": {
          "base_uri": "https://localhost:8080/"
        },
        "id": "j7g7Lh8ViO2a",
        "outputId": "4094a352-1ea2-417f-fed3-0ca23b2ab63a"
      },
      "source": [
        "print(nparray[0:,0:3:1]) # 0th row , from 0th column till column 3(i.e. 4-1) with step size as 2"
      ],
      "execution_count": 13,
      "outputs": [
        {
          "output_type": "stream",
          "name": "stdout",
          "text": [
            "[[1 2 3]\n",
            " [5 6 7]]\n"
          ]
        }
      ]
    },
    {
      "cell_type": "code",
      "metadata": {
        "colab": {
          "base_uri": "https://localhost:8080/"
        },
        "id": "RFyenxEeiARV",
        "outputId": "86451530-bb0f-463e-8f71-f081618b8132"
      },
      "source": [
        "print(np.flip(nparray[0:,0:-1:1],0)) # 0th row , from 0th column till column 3(i.e. 4-1) with step size as 2 ... , 0 for vertical flip"
      ],
      "execution_count": null,
      "outputs": [
        {
          "output_type": "stream",
          "name": "stdout",
          "text": [
            "[[5 6 7]\n",
            " [1 2 3]]\n"
          ]
        }
      ]
    },
    {
      "cell_type": "code",
      "metadata": {
        "colab": {
          "base_uri": "https://localhost:8080/"
        },
        "id": "TlBimfZ1ital",
        "outputId": "56a6667f-89ae-4aef-fab6-190e8be070f4"
      },
      "source": [
        "print(np.flip(nparray[0:,0:-1:1],1)) # 0th row , from 0th column till column 3(i.e. 4-1) with step size as 2 ... , 1 for horizontal flip"
      ],
      "execution_count": null,
      "outputs": [
        {
          "output_type": "stream",
          "name": "stdout",
          "text": [
            "[[3 2 1]\n",
            " [7 6 5]]\n"
          ]
        }
      ]
    },
    {
      "cell_type": "code",
      "metadata": {
        "colab": {
          "base_uri": "https://localhost:8080/"
        },
        "id": "5NmuoCial6aY",
        "outputId": "ada158b5-e7e1-4582-e999-c4d56e78ae98"
      },
      "source": [
        "print(nparray)\n",
        "print(\"----\")\n",
        "print(nparray[0:,2]) # print column 2(index wise)\n",
        "print(\"Now focus here..\")\n",
        "nparray[0:,2] = 999\n",
        "print(nparray)"
      ],
      "execution_count": null,
      "outputs": [
        {
          "output_type": "stream",
          "name": "stdout",
          "text": [
            "[[1 2 3 4]\n",
            " [5 6 7 8]]\n",
            "----\n",
            "[3 7]\n",
            "Now focus here..\n",
            "[[  1   2 -25   4]\n",
            " [  5   6 -25   8]]\n"
          ]
        }
      ]
    },
    {
      "cell_type": "code",
      "metadata": {
        "colab": {
          "base_uri": "https://localhost:8080/"
        },
        "id": "PWiciaVQrHk5",
        "outputId": "a6393fc2-13bb-4f17-e24f-cf3515a920e6"
      },
      "source": [
        "array_cus = np.ones((5,5), dtype='int32')\n",
        "#print(array_cus)\n",
        "array_cus[1:4,1:4] = np.zeros((3,3), dtype='int32')\n",
        "array_cus[2,2]=9\n",
        "print(array_cus)"
      ],
      "execution_count": 16,
      "outputs": [
        {
          "output_type": "stream",
          "name": "stdout",
          "text": [
            "[[1 1 1 1 1]\n",
            " [1 0 0 0 1]\n",
            " [1 0 9 0 1]\n",
            " [1 0 0 0 1]\n",
            " [1 1 1 1 1]]\n"
          ]
        }
      ]
    },
    {
      "cell_type": "code",
      "metadata": {
        "colab": {
          "base_uri": "https://localhost:8080/",
          "height": 402
        },
        "id": "DCgWzDVz96__",
        "outputId": "1fe8bfe2-620f-440a-876c-40e2167c1885"
      },
      "source": [
        "## Some more info\n",
        "import ctypes\n",
        "print(array_cus.flags)\n",
        "print(array_cus.shape)\n",
        "print(array_cus.ndim)\n",
        "print(array_cus.ctypes.data_as(ctypes.POINTER(ctypes.c_uint32)).contents)\n",
        "print(array_cus.size)\n",
        "print(array_cus.itemsize)\n",
        "print(array_cus.nbytes)\n"
      ],
      "execution_count": 36,
      "outputs": [
        {
          "output_type": "stream",
          "name": "stdout",
          "text": [
            "  C_CONTIGUOUS : True\n",
            "  F_CONTIGUOUS : False\n",
            "  OWNDATA : True\n",
            "  WRITEABLE : True\n",
            "  ALIGNED : True\n",
            "  WRITEBACKIFCOPY : False\n",
            "  UPDATEIFCOPY : False\n",
            "\n",
            "(5, 5)\n",
            "2\n"
          ]
        },
        {
          "output_type": "error",
          "ename": "TypeError",
          "evalue": "ignored",
          "traceback": [
            "\u001b[0;31m---------------------------------------------------------------------------\u001b[0m",
            "\u001b[0;31mTypeError\u001b[0m                                 Traceback (most recent call last)",
            "\u001b[0;32m<ipython-input-36-1ed312cd37a0>\u001b[0m in \u001b[0;36m<module>\u001b[0;34m()\u001b[0m\n\u001b[1;32m      4\u001b[0m \u001b[0mprint\u001b[0m\u001b[0;34m(\u001b[0m\u001b[0marray_cus\u001b[0m\u001b[0;34m.\u001b[0m\u001b[0mshape\u001b[0m\u001b[0;34m)\u001b[0m\u001b[0;34m\u001b[0m\u001b[0;34m\u001b[0m\u001b[0m\n\u001b[1;32m      5\u001b[0m \u001b[0mprint\u001b[0m\u001b[0;34m(\u001b[0m\u001b[0marray_cus\u001b[0m\u001b[0;34m.\u001b[0m\u001b[0mndim\u001b[0m\u001b[0;34m)\u001b[0m\u001b[0;34m\u001b[0m\u001b[0;34m\u001b[0m\u001b[0m\n\u001b[0;32m----> 6\u001b[0;31m \u001b[0mprint\u001b[0m\u001b[0;34m(\u001b[0m\u001b[0marray_cus\u001b[0m\u001b[0;34m.\u001b[0m\u001b[0mctypes\u001b[0m\u001b[0;34m.\u001b[0m\u001b[0mdata_as\u001b[0m\u001b[0;34m(\u001b[0m\u001b[0mctypes\u001b[0m\u001b[0;34m.\u001b[0m\u001b[0mPOINTER\u001b[0m\u001b[0;34m(\u001b[0m\u001b[0mctypes\u001b[0m\u001b[0;34m.\u001b[0m\u001b[0mc_uint32\u001b[0m\u001b[0;34m)\u001b[0m\u001b[0;34m)\u001b[0m\u001b[0;34m.\u001b[0m\u001b[0mcontents\u001b[0m\u001b[0;34m[\u001b[0m\u001b[0;36m2\u001b[0m\u001b[0;34m]\u001b[0m\u001b[0;34m[\u001b[0m\u001b[0;36m2\u001b[0m\u001b[0;34m]\u001b[0m\u001b[0;34m)\u001b[0m\u001b[0;34m\u001b[0m\u001b[0;34m\u001b[0m\u001b[0m\n\u001b[0m\u001b[1;32m      7\u001b[0m \u001b[0mprint\u001b[0m\u001b[0;34m(\u001b[0m\u001b[0marray_cus\u001b[0m\u001b[0;34m.\u001b[0m\u001b[0msize\u001b[0m\u001b[0;34m)\u001b[0m\u001b[0;34m\u001b[0m\u001b[0;34m\u001b[0m\u001b[0m\n\u001b[1;32m      8\u001b[0m \u001b[0mprint\u001b[0m\u001b[0;34m(\u001b[0m\u001b[0marray_cus\u001b[0m\u001b[0;34m.\u001b[0m\u001b[0mitemsize\u001b[0m\u001b[0;34m)\u001b[0m\u001b[0;34m\u001b[0m\u001b[0;34m\u001b[0m\u001b[0m\n",
            "\u001b[0;31mTypeError\u001b[0m: 'c_uint' object is not subscriptable"
          ]
        }
      ]
    },
    {
      "cell_type": "code",
      "metadata": {
        "colab": {
          "base_uri": "https://localhost:8080/"
        },
        "id": "ssYFq6pNAsWQ",
        "outputId": "90d4e12c-2808-48b8-f30a-db360ac779fe"
      },
      "source": [
        "print(array_cus.T)\n",
        "complex_arr = np.array([[1+2j, 3+6j],[1+5j, 5+7j]],dtype='complex128')\n",
        "print(np.sqrt(complex_arr))\n",
        "print(complex_arr[0][0].real)"
      ],
      "execution_count": 29,
      "outputs": [
        {
          "output_type": "stream",
          "name": "stdout",
          "text": [
            "[[1 1 1 1 1]\n",
            " [1 0 0 0 1]\n",
            " [1 0 9 0 1]\n",
            " [1 0 0 0 1]\n",
            " [1 1 1 1 1]]\n",
            "[[1.27201965+0.78615138j 2.20320266+1.36165413j]\n",
            " [1.74628456+1.4316109j  2.60790388+1.342074j  ]]\n",
            "1.0\n"
          ]
        }
      ]
    },
    {
      "cell_type": "markdown",
      "metadata": {
        "id": "6KZ0BUhLMAQA"
      },
      "source": [
        "**Reshaping the Array**"
      ]
    },
    {
      "cell_type": "code",
      "metadata": {
        "colab": {
          "base_uri": "https://localhost:8080/"
        },
        "id": "S0vBf0nfMDaY",
        "outputId": "ceaf21a1-abf5-406f-d243-ee2a5337a687"
      },
      "source": [
        "init_array = np.array([[1,2,3],[4,5,6]])\n",
        "print(init_array)\n",
        "reshaped_array = init_array.reshape(1,6)\n",
        "print(reshaped_array)"
      ],
      "execution_count": 44,
      "outputs": [
        {
          "output_type": "stream",
          "name": "stdout",
          "text": [
            "[[1 2 3]\n",
            " [4 5 6]]\n",
            "[[1 2 3 4 5 6]]\n"
          ]
        }
      ]
    }
  ]
}